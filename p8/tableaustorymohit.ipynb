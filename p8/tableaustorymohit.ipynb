{
 "cells": [
  {
   "cell_type": "markdown",
   "metadata": {},
   "source": [
    "# Data story telling\n",
    "By - Mohit patel"
   ]
  },
  {
   "cell_type": "markdown",
   "metadata": {},
   "source": [
    "## first story \n",
    "* link: https://public.tableau.com/views/project_218/Baseballplayersperformancestudy?:embed=y&:display_count=yes&publish=yes "
   ]
  },
  {
   "cell_type": "markdown",
   "metadata": {},
   "source": [
    "# final story\n",
    "* link: https://public.tableau.com/shared/S6G2H84N4?:display_count=yes"
   ]
  },
  {
   "cell_type": "markdown",
   "metadata": {},
   "source": [
    "### **Summary**\n",
    "\n",
    "During the course of making this data visualization various Tableau techniques were used to represent Baseball data. Many relationships have been explored within the factors such as Batting Average and Height and Weight. A new variable i.e Height/Weight ratio was used to explore new insights. \n",
    "\n",
    "*In conclusion, it was found that a player having BMI level 24 is predicted to perform better than other players in the same set of circumstances, without any effect of left or right handedness of the player.*\n",
    "\n",
    "\n",
    "### **Design**\n",
    "The X and Y axis headers were used in both the designs and some new variables were introduced in the final design.\n",
    "\n",
    "**Initial Design**\n",
    "```\n",
    "Initially the chart type and format settings for all the axis and plots were set to default, and each plot contained \n",
    "gridlines and labels.No changes were made to any variables and BMI variable was introduced.The charts were able \n",
    "to show the results clearly. \n",
    "\n",
    "A point in a normal distribution plot of Height and Home Runs was \"Annotated\" as to show the findings. A \"Handedness\" \n",
    "filter was used to show the results,although the changes in the right and left handedness were not significant as the \n",
    "difference in the results was clearly due to difference in the number of records with each handedness(R, L and B).\n",
    "\n",
    "```\n",
    "\n",
    "**Final Design**\n",
    "```\n",
    "The story part contains short hight for caption it was changed to full hight to read it properly!\n",
    "also the handedness(R, L and B) variable was not so clear for L,R and B so changed them to Left,Right and Both respectively!\n",
    "\n",
    "The size of one sheet was needed small for setting up a good visulization of dashboard and needed bigger one for slide no 3 in story! I used duplicatation of sheet to solve and and manage hight and width in both of them!\n",
    "\n",
    "```\n",
    "\n",
    "### **Feedback**\n",
    "\n",
    "* i think the person who saw my first story was likely impressed and suggested me point to point changes as well !\n",
    " here is her words \" Awesome story, I like how the visualisations are spacious and tidy.\n",
    "1) I found it difficult to ready the contents of story navigation (grey rectangles), these hold the summary notes, but are too small to show full text. Could you increase their size? or add a summary text box onto the pages themselves?\n",
    "2) for 'Handidness' values, I'd write full words, i.e. 'Left', 'Right', etc.\n",
    "3) on slide 3, about Handedness could you make the visualisation bigger? its a very nice visualisation.\n",
    " Keep up a great work!\"\n",
    " \n",
    " the above mentioned changes were made for final visulization! and mentioned above how i did that!\n",
    " \n",
    " ### **Resources**\n",
    "1. https://onlinehelp.tableau.com/current/pro/desktop/en-us/publish_workbooks_tableaupublic.html\n",
    "2. https://www.tableau.com/learn/training\n",
    "3. https://community.tableau.com/thread/137413\n",
    "4. http://onlinehelp.tableau.com/v10.4/pro/desktop/en-us/help.htm#extracting_data.html"
   ]
  }
 ],
 "metadata": {
  "kernelspec": {
   "display_name": "Python 3",
   "language": "python",
   "name": "python3"
  },
  "language_info": {
   "codemirror_mode": {
    "name": "ipython",
    "version": 3
   },
   "file_extension": ".py",
   "mimetype": "text/x-python",
   "name": "python",
   "nbconvert_exporter": "python",
   "pygments_lexer": "ipython3",
   "version": "3.6.3"
  }
 },
 "nbformat": 4,
 "nbformat_minor": 2
}
